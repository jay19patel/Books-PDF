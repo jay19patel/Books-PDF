{
 "cells": [
  {
   "cell_type": "markdown",
   "id": "d2a1c3bf",
   "metadata": {},
   "source": [
    "### Importing Moduls "
   ]
  },
  {
   "cell_type": "code",
   "execution_count": 7,
   "id": "f11e24ca",
   "metadata": {},
   "outputs": [],
   "source": [
    "from selenium import webdriver\n",
    "from selenium.webdriver.common.keys import Keys\n",
    "from selenium.webdriver.common.by import By"
   ]
  },
  {
   "cell_type": "markdown",
   "id": "cb0e0adf",
   "metadata": {},
   "source": [
    "### Generate  Driver for Automation"
   ]
  },
  {
   "cell_type": "code",
   "execution_count": 8,
   "id": "512d54d8",
   "metadata": {},
   "outputs": [],
   "source": [
    "driver=webdriver.Chrome()\n",
    "url = \"https://www.google.com/\"\n",
    "driver.get(url)"
   ]
  },
  {
   "cell_type": "markdown",
   "id": "41e45084",
   "metadata": {},
   "source": [
    "### Get Class name where Google Have Search Box"
   ]
  },
  {
   "cell_type": "code",
   "execution_count": 9,
   "id": "24a07c7b",
   "metadata": {},
   "outputs": [],
   "source": [
    "element = driver.find_element(By.NAME,\"q\")"
   ]
  },
  {
   "cell_type": "markdown",
   "id": "8039f299",
   "metadata": {},
   "source": [
    "###  Post  Search Text"
   ]
  },
  {
   "cell_type": "code",
   "execution_count": 10,
   "id": "515d49ad",
   "metadata": {},
   "outputs": [],
   "source": [
    "element.clear()#clear any past keys\n",
    "element.send_keys(\"news \") # sen new keys\n",
    "element.send_keys(Keys.RETURN)"
   ]
  },
  {
   "cell_type": "markdown",
   "id": "5d66c18c",
   "metadata": {},
   "source": [
    "### Driver  Searching elements and Text"
   ]
  },
  {
   "cell_type": "code",
   "execution_count": 11,
   "id": "be90447b",
   "metadata": {},
   "outputs": [],
   "source": [
    "news = driver.find_element(By.CLASS_NAME,\"aUSklf\")"
   ]
  },
  {
   "cell_type": "markdown",
   "id": "162848bf",
   "metadata": {},
   "source": [
    "### Scarp Data Output"
   ]
  },
  {
   "cell_type": "markdown",
   "id": "644a63a1",
   "metadata": {},
   "source": [
    "print(\"jay Patel News\".center(30, \"-\"))\n",
    "print(news.text)"
   ]
  }
 ],
 "metadata": {
  "kernelspec": {
   "display_name": "Python 3 (ipykernel)",
   "language": "python",
   "name": "python3"
  },
  "language_info": {
   "codemirror_mode": {
    "name": "ipython",
    "version": 3
   },
   "file_extension": ".py",
   "mimetype": "text/x-python",
   "name": "python",
   "nbconvert_exporter": "python",
   "pygments_lexer": "ipython3",
   "version": "3.11.2"
  }
 },
 "nbformat": 4,
 "nbformat_minor": 5
}
