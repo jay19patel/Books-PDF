{
 "cells": [
  {
   "cell_type": "markdown",
   "id": "649991ae",
   "metadata": {},
   "source": [
    "### Importing Moduls "
   ]
  },
  {
   "cell_type": "code",
   "execution_count": 20,
   "id": "2726a005",
   "metadata": {},
   "outputs": [],
   "source": [
    "from selenium import webdriver\n",
    "from selenium.webdriver.common.keys import Keys\n",
    "from selenium.webdriver.common.by import By"
   ]
  },
  {
   "cell_type": "markdown",
   "id": "0ad5b38a",
   "metadata": {},
   "source": [
    "### Generate  Driver for Automation"
   ]
  },
  {
   "cell_type": "code",
   "execution_count": 21,
   "id": "f164fd0d",
   "metadata": {},
   "outputs": [],
   "source": [
    "driver=webdriver.Chrome()\n",
    "url = \"https://www.google.com/\"\n",
    "driver.get(url)"
   ]
  },
  {
   "cell_type": "markdown",
   "id": "9dc86f3f",
   "metadata": {},
   "source": [
    "### Get Class name where Google Have Search Box"
   ]
  },
  {
   "cell_type": "code",
   "execution_count": 22,
   "id": "feac56a6",
   "metadata": {},
   "outputs": [],
   "source": [
    "element = driver.find_element(By.NAME,\"q\")"
   ]
  },
  {
   "cell_type": "markdown",
   "id": "d5aab24a",
   "metadata": {},
   "source": [
    "###  Post  Search Text"
   ]
  },
  {
   "cell_type": "code",
   "execution_count": 23,
   "id": "39f464b0",
   "metadata": {},
   "outputs": [],
   "source": [
    "element.clear()#clear any past keys\n",
    "element.send_keys(\"news \") # sen new keys\n",
    "element.send_keys(Keys.RETURN)"
   ]
  },
  {
   "cell_type": "markdown",
   "id": "4c6417a2",
   "metadata": {},
   "source": [
    "### Driver  Searching elements and Text"
   ]
  },
  {
   "cell_type": "code",
   "execution_count": 24,
   "id": "f71ae00c",
   "metadata": {},
   "outputs": [],
   "source": [
    "news = driver.find_element(By.CLASS_NAME,\"aUSklf\")"
   ]
  },
  {
   "cell_type": "markdown",
   "id": "e331ebeb",
   "metadata": {},
   "source": [
    "### Scarp Data Output"
   ]
  },
  {
   "cell_type": "code",
   "execution_count": 25,
   "id": "cec33dcb",
   "metadata": {},
   "outputs": [
    {
     "name": "stdout",
     "output_type": "stream",
     "text": [
      "--------jay Patel News--------\n",
      "10 Cops, Driver Killed In Blast By Maoists In Chhattisgarh's Dantewada\n",
      "6 mins ago\n",
      "Same-Sex Marriage Hearing Live Updates: CJI criticises Centre’s reliance on controversial US Supreme Court ruling that took away abortion rights\n",
      "LIVE18 mins ago\n",
      "Delhi Public School Mathura Road receives bomb threat via email, parents rush to get kids out\n",
      "5 hours ago\n",
      "Contaminated syrups manufactured in India reported in WHO’s Western Pacific region\n",
      "16 hours ago\n",
      "AAP's Shelly Oberoi elected mayor unanimously, Aaley Md Iqbal as her deputy\n",
      "2 hours ago\n",
      "Huge Fire At Greater Noida Residential Apartment, No Injuries Reported\n",
      "2 hours ago\n"
     ]
    }
   ],
   "source": [
    "print(\"jay Patel News\".center(30, \"-\"))\n",
    "print(news.text)"
   ]
  },
  {
   "cell_type": "code",
   "execution_count": null,
   "id": "09604e42",
   "metadata": {},
   "outputs": [],
   "source": []
  }
 ],
 "metadata": {
  "kernelspec": {
   "display_name": "Python 3 (ipykernel)",
   "language": "python",
   "name": "python3"
  },
  "language_info": {
   "codemirror_mode": {
    "name": "ipython",
    "version": 3
   },
   "file_extension": ".py",
   "mimetype": "text/x-python",
   "name": "python",
   "nbconvert_exporter": "python",
   "pygments_lexer": "ipython3",
   "version": "3.11.2"
  }
 },
 "nbformat": 4,
 "nbformat_minor": 5
}
