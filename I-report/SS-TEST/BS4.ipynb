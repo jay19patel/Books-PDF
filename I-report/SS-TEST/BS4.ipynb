{
 "cells": [
  {
   "cell_type": "markdown",
   "id": "5b34809f",
   "metadata": {},
   "source": [
    "### Importing Moduls "
   ]
  },
  {
   "cell_type": "code",
   "execution_count": 12,
   "id": "7adad93a",
   "metadata": {},
   "outputs": [],
   "source": [
    "import requests\n",
    "from bs4 import BeautifulSoup"
   ]
  },
  {
   "cell_type": "markdown",
   "id": "8e7e8915",
   "metadata": {},
   "source": [
    "### BeautifulSoup Class"
   ]
  },
  {
   "cell_type": "code",
   "execution_count": 2,
   "id": "71d4bb75",
   "metadata": {},
   "outputs": [],
   "source": [
    "url =\"https://weather.com/en-DM/weather/tenday/l/28d595bc7ffad1010c416552a79bd576c69a3443d730c27784a0911b2e078f98\"\n",
    "response = requests.get(url)\n",
    "soup = BeautifulSoup(response.text, 'html.parser')\n"
   ]
  },
  {
   "cell_type": "markdown",
   "id": "f2b5d3f3",
   "metadata": {},
   "source": [
    "### find Each element class"
   ]
  },
  {
   "cell_type": "code",
   "execution_count": 3,
   "id": "7f2169cc",
   "metadata": {},
   "outputs": [
    {
     "data": {
      "text/plain": [
       "'Valsad, Gujarat, India'"
      ]
     },
     "execution_count": 3,
     "metadata": {},
     "output_type": "execute_result"
    }
   ],
   "source": [
    "soup.find('span',{'class':'LocationPageTitle--PresentationName--1AMA6'}).text"
   ]
  },
  {
   "cell_type": "code",
   "execution_count": 4,
   "id": "af42fcdf",
   "metadata": {},
   "outputs": [
    {
     "data": {
      "text/plain": [
       "'Generally clear. Low 26ºC. Winds SSW at 15 to 30 km/h.'"
      ]
     },
     "execution_count": 4,
     "metadata": {},
     "output_type": "execute_result"
    }
   ],
   "source": [
    "soup.find('p',{'class':'DailyContent--narrative--3Ti6_'}).text"
   ]
  },
  {
   "cell_type": "code",
   "execution_count": 5,
   "id": "853596f5",
   "metadata": {},
   "outputs": [
    {
     "data": {
      "text/plain": [
       "'26°'"
      ]
     },
     "execution_count": 5,
     "metadata": {},
     "output_type": "execute_result"
    }
   ],
   "source": [
    "soup.find('span',{'class':'DailyContent--temp--1s3a7'}).text"
   ]
  },
  {
   "cell_type": "code",
   "execution_count": 6,
   "id": "48e11cec",
   "metadata": {},
   "outputs": [
    {
     "data": {
      "text/plain": [
       "'75%'"
      ]
     },
     "execution_count": 6,
     "metadata": {},
     "output_type": "execute_result"
    }
   ],
   "source": [
    "soup.find('span',{'class':'DetailsTable--value--2YD0-'}).text"
   ]
  },
  {
   "cell_type": "code",
   "execution_count": 7,
   "id": "5122a297",
   "metadata": {},
   "outputs": [
    {
     "data": {
      "text/plain": [
       "'10:57'"
      ]
     },
     "execution_count": 7,
     "metadata": {},
     "output_type": "execute_result"
    }
   ],
   "source": [
    "soup.find(attrs={'data-testid':'MoonriseTime'}).text"
   ]
  },
  {
   "cell_type": "code",
   "execution_count": 11,
   "id": "a6bc6627",
   "metadata": {},
   "outputs": [
    {
     "name": "stdout",
     "output_type": "stream",
     "text": [
      " Day : Tonight  | Temps : --\n",
      " Day : Thu 27  | Temps : 33°\n",
      " Day : Fri 28  | Temps : 33°\n",
      " Day : Sat 29  | Temps : 32°\n"
     ]
    }
   ],
   "source": [
    "for wed in soup.find_all('details',{'class':'DaypartDetails--DayPartDetail--2XOOV Disclosure--themeList--1Dz21'})[:4]:\n",
    "    day = wed.find('h3',{'class':'DetailsSummary--daypartName--kbngc'})\n",
    "    temp = wed.find('span',{'class':'DetailsSummary--highTempValue--3PjlX'})\n",
    "    print(f' Day : {day.text}  | Temps : {temp.text}')"
   ]
  },
  {
   "cell_type": "code",
   "execution_count": 16,
   "id": "0dd91310",
   "metadata": {},
   "outputs": [
    {
     "name": "stdout",
     "output_type": "stream",
     "text": [
      "@jay patel\n"
     ]
    }
   ],
   "source": [
    "print(\"@jay patel\" )"
   ]
  },
  {
   "cell_type": "code",
   "execution_count": null,
   "id": "4e6a2f95",
   "metadata": {},
   "outputs": [],
   "source": []
  }
 ],
 "metadata": {
  "kernelspec": {
   "display_name": "Python 3 (ipykernel)",
   "language": "python",
   "name": "python3"
  },
  "language_info": {
   "codemirror_mode": {
    "name": "ipython",
    "version": 3
   },
   "file_extension": ".py",
   "mimetype": "text/x-python",
   "name": "python",
   "nbconvert_exporter": "python",
   "pygments_lexer": "ipython3",
   "version": "3.11.2"
  }
 },
 "nbformat": 4,
 "nbformat_minor": 5
}
